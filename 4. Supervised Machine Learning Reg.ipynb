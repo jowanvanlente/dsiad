{
 "cells": [
  {
   "cell_type": "markdown",
   "metadata": {},
   "source": [
    "In this notebook we will practice linear regression models with one and multiple variables. We will use the step-by-step Supervised Machine Learning plan that we have learned during the first module in Supervised Machine Learning. Previously, we encountered a classification problem: identfying good and bad quality based on wine characteristics. Now, we are going to look at predicting sales on the basis of investment in different marketing channels: TV, Social media and the Newspaper.\n",
    "\n",
    "\n",
    "As usual, we start with the import of the libraries that we need during for modelling."
   ]
  },
  {
   "cell_type": "code",
   "execution_count": null,
   "metadata": {},
   "outputs": [],
   "source": [
    "# import the numpy and pandas package\n",
    "import numpy as np\n",
    "import pandas as pd\n",
    "\n",
    "# data visualisation libaries\n",
    "import matplotlib.pyplot as plt \n",
    "import matplotlib as mpl \n",
    "import seaborn as sns\n",
    "from matplotlib.gridspec import GridSpec\n",
    "\n",
    "# linear modelling libaries\n",
    "from sklearn.model_selection import train_test_split\n",
    "import statsmodels.api as sm\n",
    "from sklearn.linear_model import LinearRegression\n",
    "from sklearn.metrics import r2_score\n",
    "\n",
    "# warning ignore\n",
    "import warnings\n",
    "warnings.filterwarnings('ignore')\n",
    "\n",
    "# set figure size \n",
    "mpl.rcParams['figure.figsize'] = (18,8)\n",
    "\n",
    "# checking and plot functions\n",
    "from dsiad_functions import Solution_SMLreg\n",
    "from dsiad_functions import plots\n",
    "solution = Solution_SMLreg()\n",
    "plot = plots()   "
   ]
  },
  {
   "cell_type": "markdown",
   "metadata": {},
   "source": [
    "# STEP 3: Data collection\n",
    "First, we need to \"collect\" our data. Usually, this is a time intensive process. Luckily, we provided you with a prepared dataset. We will read in the dataset by the function `pd.read_csv()`."
   ]
  },
  {
   "cell_type": "code",
   "execution_count": null,
   "metadata": {},
   "outputs": [],
   "source": [
    "data = pd.read_csv('advertising.csv')"
   ]
  },
  {
   "cell_type": "markdown",
   "metadata": {},
   "source": [
    "# STEP 4: Data exploration\n",
    "Let's look through our data with `.head()` to see what we are dealing with. We see 4 columns, the unit of the columns is euro's."
   ]
  },
  {
   "cell_type": "code",
   "execution_count": null,
   "metadata": {},
   "outputs": [],
   "source": []
  },
  {
   "cell_type": "markdown",
   "metadata": {},
   "source": [
    "Let's look through the distribution of the data with `.describe()`. Remember to pay attention to the mean, minimum and maximum of the different columns."
   ]
  },
  {
   "cell_type": "code",
   "execution_count": null,
   "metadata": {},
   "outputs": [],
   "source": []
  },
  {
   "cell_type": "markdown",
   "metadata": {},
   "source": [
    "We have learned that it is important to check for missing values, because python models are not able to process these. We use `.isnull().sum()` to let us look through the count of missing values per column."
   ]
  },
  {
   "cell_type": "code",
   "execution_count": null,
   "metadata": {},
   "outputs": [],
   "source": []
  },
  {
   "cell_type": "markdown",
   "metadata": {},
   "source": [
    "Now it is time for some visuals! We are interested in sales, let's see how sales and the different media channels vary with `sns.pairplot()`. `Sales` is the diplayed at the y-axis (`y_vars`) and the channels at the 3 x-axes (`x-vars`)."
   ]
  },
  {
   "cell_type": "code",
   "execution_count": null,
   "metadata": {},
   "outputs": [],
   "source": [
    "sns.pairplot(data, x_vars=['TV', 'Newspaper', 'Socialmedia'], y_vars='Sales', height=4, aspect=1, kind='scatter')"
   ]
  },
  {
   "cell_type": "markdown",
   "metadata": {},
   "source": [
    "The heatmap shows the strength of the correlation between sales and the media channels. `data.corr()` calculates the correlation matrix. `sns.heatmap()` displays the correlation matrix as a coloured map. `annot = True` allows us to see the actual values, e.g. the correlation between `TV` and `Sales` is 0.9. Write down the heatmap function and run to see the plot! Run the cell below to show the solution. "
   ]
  },
  {
   "cell_type": "code",
   "execution_count": null,
   "metadata": {
    "scrolled": true
   },
   "outputs": [],
   "source": []
  },
  {
   "cell_type": "code",
   "execution_count": null,
   "metadata": {},
   "outputs": [],
   "source": [
    "solution.step_4()"
   ]
  },
  {
   "cell_type": "markdown",
   "metadata": {},
   "source": [
    "So what can we learn from the heatmap? First of all, we can see that there is low correlation between our potential features (the marketing channels). We see that there is a strong correlation between Sales and TV. Interesting! Investment in TV ads seem to be a good predictor for sales. The correlation is positive. TV investment are likely to lead to an increase in sales."
   ]
  },
  {
   "cell_type": "markdown",
   "metadata": {},
   "source": [
    "# STEP 5-6: Feature engineering and feature selection\n",
    "\n",
    "We skip the feature engineering and selection for now, as we have practiced this earlier. We provided you with a ready to go dataset, so we can focus on the modelling! "
   ]
  },
  {
   "cell_type": "markdown",
   "metadata": {},
   "source": [
    "# STEP 7: Modelling\n",
    "## 7.1 Single variable linear regression\n",
    "\n",
    "In the heatmap we noticed a strong correlation between `TV` and `Sales`. It seems like TV is a promising investment to grow our sales. By training a single variable linear regression we can find out by how much. We will look for the coefficient, i.e. how much sales increases if we invest 1 euro in TV ads. Moreover, we will look for the intercept, which represents the bottomline of our sales. This is not affected by the TV investments.\n",
    "\n",
    "First we need to set our target `Sales` and feature `TV`. The model we will apply requires a certain shape of the data, therefore we use `values.reshape()`."
   ]
  },
  {
   "cell_type": "code",
   "execution_count": null,
   "metadata": {},
   "outputs": [],
   "source": [
    "#target/feature setting\n",
    "X = data[\"TV\"].values.reshape(-1,1)\n",
    "y = data[\"Sales\"].values.reshape(-1,1)"
   ]
  },
  {
   "cell_type": "markdown",
   "metadata": {},
   "source": [
    "We split our dataset in test and train data. 20% of the data (`test_size = 0.2`) is going to our test set. `random_state = 42` is an argument that allows us to reproduce our result. "
   ]
  },
  {
   "cell_type": "code",
   "execution_count": null,
   "metadata": {},
   "outputs": [],
   "source": [
    "#test train split\n",
    "X_train, X_test, y_train, y_test = train_test_split(\n",
    "    X, \n",
    "    y, \n",
    "    test_size = 0.2, \n",
    "    random_state = 42\n",
    ")"
   ]
  },
  {
   "cell_type": "markdown",
   "metadata": {},
   "source": [
    "Time for training the model! As explained, we are looking for the values of 2 parameters: the intercept and the coefficient for `TV`. Our model `LinearRegression()` will look for the parameters that best fit the data. We tell python to look for the parameters by calling `.fit()`. In the last statement, we ask to display the intercept and coefficient."
   ]
  },
  {
   "cell_type": "code",
   "execution_count": null,
   "metadata": {},
   "outputs": [],
   "source": [
    "# Fit the resgression line\n",
    "reg = LinearRegression()\n",
    "reg.fit(X_train, y_train)\n",
    "\n",
    "#printing intercept and coefficient\n",
    "print(\"The linear model is: Y = {:.5} + {:.5}X\".format(reg.intercept_[0], reg.coef_[0][0]))"
   ]
  },
  {
   "cell_type": "markdown",
   "metadata": {},
   "source": [
    "So what does this mean in practice? Run the next cell to see! "
   ]
  },
  {
   "cell_type": "code",
   "execution_count": null,
   "metadata": {},
   "outputs": [],
   "source": [
    "print(\"If we do not invest in TV advertiment, our Sales would be: \", round(reg.intercept_[0],2), \"euro\")\n",
    "print(\"For every euro invested in TV adds, our sales increases by\", round(reg.coef_[0][0],2), \"euro\")"
   ]
  },
  {
   "cell_type": "markdown",
   "metadata": {},
   "source": [
    "Next, we are going to make predictions on our test data set with `.predict()`"
   ]
  },
  {
   "cell_type": "code",
   "execution_count": null,
   "metadata": {},
   "outputs": [],
   "source": [
    "predictions = reg.predict(X_test)"
   ]
  },
  {
   "cell_type": "markdown",
   "metadata": {},
   "source": [
    "Let's visualize the regression line together with the data. We use a scatter plot `plt.scatter()` to display our testset `X_test` and `y_test`. We use a lineplot `.plt.plot()` to show our model, based on the `predictions`."
   ]
  },
  {
   "cell_type": "code",
   "execution_count": null,
   "metadata": {
    "scrolled": true
   },
   "outputs": [],
   "source": [
    "#plotting prediction line + test data\n",
    "predictions = pd.DataFrame(predictions)\n",
    "X_test = pd.DataFrame(X_test)\n",
    "y_test = pd.DataFrame(y_test)\n",
    "\n",
    "\n",
    "plt.scatter(X_test, y_test, c=\"black\")\n",
    "plt.plot(X_test, predictions, c=\"red\")\n",
    "plt.xlabel(\"TV ads spending\")\n",
    "plt.ylabel(\"Sales\")\n",
    "plt.show()"
   ]
  },
  {
   "cell_type": "markdown",
   "metadata": {},
   "source": [
    "## 7.2 Multivariate linear regression\n",
    "\n",
    "Currently, we have only looked at the relationship between `Sales` and `TV`. However, we can also take `Socialmedia` and `Newpaper` into account and see how these channels effect sales. Let's take Sales as our target `y` and the channels `TV`, `Socialmedia` and `Newspaper` as our features `X`."
   ]
  },
  {
   "cell_type": "code",
   "execution_count": null,
   "metadata": {},
   "outputs": [],
   "source": [
    "#target/feature setting\n",
    "X = data.drop(\"Sales\", axis=1)\n",
    "y = data[\"Sales\"].values.reshape(-1,1)"
   ]
  },
  {
   "cell_type": "markdown",
   "metadata": {},
   "source": [
    "Now it is your turn! Repeat the step of 7.1 for the multivariate linear regression! If it becomes difficult, you can run the last cell of this paragraph to view the solution. "
   ]
  },
  {
   "cell_type": "code",
   "execution_count": null,
   "metadata": {},
   "outputs": [],
   "source": [
    "## ADD YOUR CODE HERE ##"
   ]
  },
  {
   "cell_type": "code",
   "execution_count": null,
   "metadata": {},
   "outputs": [],
   "source": [
    "# Fit the resgression line \n",
    "multi_reg = # Fit the resgression line\n",
    "\n",
    "#display intercept and coefficients\n",
    "print(\"The linear model is: Y = {:.5} + {:.5}X_1 + {:.5}X_2 + {:.5}X_3 \".format(multi_reg.intercept_[0], multi_reg.coef_[0][0], multi_reg.coef_[0][1], multi_reg.coef_[0][2]))"
   ]
  },
  {
   "cell_type": "markdown",
   "metadata": {},
   "source": [
    " Run the next cell to see what assumptions our model is making! "
   ]
  },
  {
   "cell_type": "code",
   "execution_count": null,
   "metadata": {},
   "outputs": [],
   "source": [
    "print(\"If we do not invest in advertiment, our Sales would be: \", round(multi_reg.intercept_[0], 2))\n",
    "print(\"For every euro invested in TV adds, our sales increases by: \", round(multi_reg.coef_[0][0],2), \"euro\")\n",
    "print(\"For every euro invested in Social media adds, our sales increases by: \", round(multi_reg.coef_[0][1],2), \"euro\")\n",
    "print(\"For every euro invested in Newspaper adds, our sales increases by: \", round(multi_reg.coef_[0][2],2), \"euro\")"
   ]
  },
  {
   "cell_type": "markdown",
   "metadata": {},
   "source": [
    "Finally, we let our model predict the Sales of our test dataset. "
   ]
  },
  {
   "cell_type": "code",
   "execution_count": null,
   "metadata": {},
   "outputs": [],
   "source": [
    "## ADD YOUR CODE HERE ##"
   ]
  },
  {
   "cell_type": "markdown",
   "metadata": {},
   "source": [
    "Here you can find the correct code: "
   ]
  },
  {
   "cell_type": "code",
   "execution_count": null,
   "metadata": {},
   "outputs": [],
   "source": [
    "solution.step_7()"
   ]
  },
  {
   "cell_type": "markdown",
   "metadata": {},
   "source": [
    "# STEP 8: Evaluation\n",
    "\n",
    "To evaluate our models we are going to look at the residual plot and the $R^2$ score. The coefficient of determination, $R^2$ , is a statistical measure that shows the proportion of variation explained by the estimated regression line. If $R^2$ is one, all our data is captured by the model.  If $R^2$ is zero, none of our data is captured by the model. \n",
    "\n",
    "### Single variable linear regression\n",
    "\n",
    "Let's see how our single variable model (effect of `TV` on `Sales`) is performing. The $R^2$ can be found in the plot's legend. "
   ]
  },
  {
   "cell_type": "code",
   "execution_count": null,
   "metadata": {},
   "outputs": [],
   "source": [
    "X = data[\"TV\"].values.reshape(-1,1)\n",
    "y = data[\"Sales\"].values.reshape(-1,1)\n",
    "\n",
    "plot.residual_plot(X,y)"
   ]
  },
  {
   "cell_type": "markdown",
   "metadata": {},
   "source": [
    "### Multivariate linear regression\n",
    "\n",
    "Now the we will look at the residual plot of our multivariate model. We included the effect of `TV`, `Socialmedia` and `Newspaper` on sales here."
   ]
  },
  {
   "cell_type": "code",
   "execution_count": null,
   "metadata": {},
   "outputs": [],
   "source": [
    "X = data.drop(\"Sales\", axis=1)\n",
    "y = data[\"Sales\"].values.reshape(-1,1)\n",
    "\n",
    "plot.residual_plot(X,y)"
   ]
  },
  {
   "cell_type": "markdown",
   "metadata": {},
   "source": [
    "Based on the $R^2$ score, our multivariate model is outperforming the single variable model. We can see that the rediduals are more densily populated around the x-axis. "
   ]
  },
  {
   "cell_type": "markdown",
   "metadata": {},
   "source": [
    "# STEP 9: Predicting sales\n",
    "\n",
    "Run the cell below, to review the conclusions of our selected model. "
   ]
  },
  {
   "cell_type": "code",
   "execution_count": null,
   "metadata": {},
   "outputs": [],
   "source": [
    "print(\"If we do not invest in advertiment, our Sales would be: \", round(multi_reg.intercept_[0], 2))\n",
    "print(\"For every euro invested in TV adds, our sales increases by: \", round(multi_reg.coef_[0][0],2), \"euro\")\n",
    "print(\"For every euro invested in Socialmedia adds, our sales increases by: \", round(multi_reg.coef_[0][1],2), \"euro\")\n",
    "print(\"For every euro invested in Newspaper adds, our sales increases by: \", round(multi_reg.coef_[0][2],2), \"euro\")"
   ]
  },
  {
   "cell_type": "markdown",
   "metadata": {},
   "source": [
    "You decided to invest 20.000 in Newspaper, 50.000 in Social Media and 100.000 in TV. Write down code that estimates the sales based on our model. "
   ]
  },
  {
   "cell_type": "code",
   "execution_count": null,
   "metadata": {},
   "outputs": [],
   "source": [
    "#investments\n",
    "X_1 = #TV\n",
    "X_2 = #Social media\n",
    "X_3 = #Newspaper\n",
    "\n",
    "sales = ## WRITE DOWN YOUR CODE HERE ## \n",
    "\n",
    "print(sales)\n",
    "solution.check9(sales)"
   ]
  },
  {
   "cell_type": "code",
   "execution_count": null,
   "metadata": {},
   "outputs": [],
   "source": [
    "solution.step_9()"
   ]
  }
 ],
 "metadata": {
  "kernelspec": {
   "display_name": "Python 3.6",
   "language": "python",
   "name": "python36"
  },
  "language_info": {
   "codemirror_mode": {
    "name": "ipython",
    "version": 3
   },
   "file_extension": ".py",
   "mimetype": "text/x-python",
   "name": "python",
   "nbconvert_exporter": "python",
   "pygments_lexer": "ipython3",
   "version": "3.6.6"
  }
 },
 "nbformat": 4,
 "nbformat_minor": 2
}
